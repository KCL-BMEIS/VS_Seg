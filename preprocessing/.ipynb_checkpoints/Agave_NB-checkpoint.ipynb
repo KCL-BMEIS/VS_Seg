{
 "cells": [
  {
   "cell_type": "markdown",
   "metadata": {},
   "source": [
    "# Running python scripts through notebook"
   ]
  },
  {
   "cell_type": "code",
   "execution_count": 6,
   "metadata": {},
   "outputs": [
    {
     "name": "stdout",
     "output_type": "stream",
     "text": [
      "Traceback (most recent call last):\n",
      "  File \"TCIA_data_convert_into_convenient_folder_structure.py\", line 42, in <module>\n",
      "    dd = pydicom.read_file(first_file)\n",
      "  File \"/home/mabbasi6/.local/lib/python3.7/site-packages/pydicom/filereader.py\", line 993, in dcmread\n",
      "    fp = open(fp, 'rb')\n",
      "IsADirectoryError: [Errno 21] Is a directory: '/data/bioprotean/BNI/VS_Seg/data/Vestibular-Schwannoma-SEG/VS-SEG-218/04-27-1999-NA-Avanto RoutineImage Guidance-73065/NA-25779'\n"
     ]
    }
   ],
   "source": [
    "!python3 TCIA_data_convert_into_convenient_folder_structure.py --input /data/bioprotean/BNI/VS_Seg/data/ --output /data/bioprotean/BNI/VS_Seg/data/prepped/"
   ]
  }
 ],
 "metadata": {
  "kernelspec": {
   "display_name": "momo_seg_kernel",
   "language": "python",
   "name": "momo_seg"
  },
  "language_info": {
   "codemirror_mode": {
    "name": "ipython",
    "version": 3
   },
   "file_extension": ".py",
   "mimetype": "text/x-python",
   "name": "python",
   "nbconvert_exporter": "python",
   "pygments_lexer": "ipython3",
   "version": "3.6.13"
  }
 },
 "nbformat": 4,
 "nbformat_minor": 2
}
